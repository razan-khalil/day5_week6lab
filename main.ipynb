{
 "cells": [
  {
   "cell_type": "markdown",
   "metadata": {},
   "source": [
    "# Step 1: Form Pairs\n",
    "\n",
    "## Developer Role: Razan\n",
    "\n",
    "## Gatekeeper Role: Ghala\n"
   ]
  },
  {
   "cell_type": "markdown",
   "metadata": {},
   "source": [
    "# Step 2: Developer Role"
   ]
  },
  {
   "cell_type": "code",
   "execution_count": null,
   "metadata": {},
   "outputs": [],
   "source": [
    "### [your code here]\n",
    "import numpy as np\n",
    "\n",
    "### [your code here]\n",
    "print(\"NumPy Version:\", np.__version__)\n",
    "np.show_config()\n",
    "\n",
    "### [your code here]\n",
    "a=np.random.randint(10, size=(2,3,5))\n",
    "\n",
    "### [your code here]\n",
    "print(a)\n",
    "a.shape\n",
    "\n",
    "### [your code here]\n",
    "b=np.ones((5,2,3))\n",
    "\n",
    "### [your code here]\n",
    "print(b)\n",
    "b.shape\n",
    "\n",
    "### [your code here]\n",
    "print(a.shape)\n",
    "print(b.shape)\n",
    "# no matrix a and b does not have the same size \n",
    "same_size = a.shape == b.shape\n",
    "print(same_size)\n",
    "\n",
    "\n",
    "### [your code here]\n",
    "can_add=a.shape==b.shape\n",
    "print(can_add)\n",
    "# no i am not able to add a and b because they have different sizes and it should be the same size of column in first matrix with the first row in the second matrix\n",
    "\n",
    "\n",
    "### [your code here]\n",
    "c = b.transpose(1,2,0)\n",
    "print(c)\n",
    "c.shape\n",
    "\n",
    "### [your code here]\n",
    "d=a+c\n",
    "\n",
    "### [your code here]\n",
    "print(a)\n",
    "print(d)\n",
    "#\n",
    "\n",
    "\n",
    "### [your code here]\n",
    "e=a*c\n",
    "print(e)\n",
    "e.shape\n",
    "\n",
    "### [your code here]\n",
    "eq=a.shape==e.shape\n",
    "print(eq)\n",
    "print(e.shape)\n",
    "print(a.shape)\n",
    "# yes e equals to a they both have the same shape and size\n",
    "\n",
    "\n",
    "### [your code here]\n",
    "d_max=np.max(d)\n",
    "d_min=np.min(d)\n",
    "d_mean=np.mean(d)\n",
    "\n",
    "\n",
    "### [your code here]\n",
    "f=np.empty((2,3,5))\n",
    "\n",
    "### [your code here]\n",
    "f = np.empty(d.shape)\n",
    "\n",
    "for i in range(d.shape[0]):  \n",
    "    for j in range(d.shape[1]):  \n",
    "        for k in range(d.shape[2]):  \n",
    "            if d_min < d[i, j, k] < d_mean:\n",
    "                f[i, j, k] = 25\n",
    "            elif d_mean < d[i, j, k] < d_max:\n",
    "                f[i, j, k] = 75\n",
    "            elif d[i,j,k]== d_max:\n",
    "                f[i, j, k] = 100\n",
    "            else:\n",
    "                  f[i, j, k] = 0  \n",
    "\n",
    "\n",
    "\n",
    "\n",
    "\n",
    "\n",
    "\n",
    "### [your code here]\n",
    "print(d)\n",
    "print(f)\n"
   ]
  },
  {
   "cell_type": "markdown",
   "metadata": {},
   "source": [
    "# Step 3: Gatekeeper Role"
   ]
  },
  {
   "cell_type": "code",
   "execution_count": 1,
   "metadata": {},
   "outputs": [
    {
     "name": "stdout",
     "output_type": "stream",
     "text": [
      "Hello world\n"
     ]
    }
   ],
   "source": [
    "print(\"Hello world\")"
   ]
  }
 ],
 "metadata": {
  "kernelspec": {
   "display_name": "Python 3",
   "language": "python",
   "name": "python3"
  },
  "language_info": {
   "codemirror_mode": {
    "name": "ipython",
    "version": 3
   },
   "file_extension": ".py",
   "mimetype": "text/x-python",
   "name": "python",
   "nbconvert_exporter": "python",
   "pygments_lexer": "ipython3",
   "version": "3.11.9"
  }
 },
 "nbformat": 4,
 "nbformat_minor": 2
}
